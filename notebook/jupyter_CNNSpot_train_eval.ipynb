{
 "cells": [
  {
   "cell_type": "markdown",
   "metadata": {
    "id": "4bsPZQKgE3tX"
   },
   "source": [
    "## AIGCDetectBenchmark\n"
   ]
  },
  {
   "cell_type": "code",
   "execution_count": null,
   "metadata": {},
   "outputs": [],
   "source": [
    "!git clone https://github.com/vohoaidanh/AIGCDetectBenchmark_ver2.git"
   ]
  },
  {
   "cell_type": "code",
   "execution_count": null,
   "metadata": {
    "colab": {
     "base_uri": "https://localhost:8080/"
    },
    "id": "yZtRWDeMing8",
    "outputId": "5d83d40e-05ac-4bbe-a5b5-29ea56eaaca5"
   },
   "outputs": [],
   "source": [
    "!pip install ftfy -q\n",
    "!pip install natsort -q\n",
    "!pip install blobfile -q\n",
    "#!pip install mpi4py -q\n",
    "!pip install comet_ml -q\n",
    "!pip install grad-cam -q\n"
   ]
  },
  {
   "cell_type": "code",
   "execution_count": null,
   "metadata": {},
   "outputs": [],
   "source": [
    "!pip install tensorboardX -q\n",
    "!apt-get install -y unzip -q\n",
    "!apt-get install -y zip -q\n",
    "!pip install regex -q\n",
    "!pip install imageio -q\n",
    "!pip install opencv-python -q\n",
    "!apt-get install -y libgl1-mesa-glx -q\n",
    "!pip install scikit-learn -q\n",
    "!pip install scikit-image -q\n",
    "!pip install gdown -q\n",
    "!pip install pickleshare -q"
   ]
  },
  {
   "cell_type": "code",
   "execution_count": null,
   "metadata": {
    "colab": {
     "base_uri": "https://localhost:8080/"
    },
    "id": "n9HXSjhchADX",
    "outputId": "e7c10e63-1b0e-4c5f-8ea6-cdc24bd92a72"
   },
   "outputs": [],
   "source": [
    "%cd /workspace/AIGCDetectBenchmark_ver2"
   ]
  },
  {
   "cell_type": "code",
   "execution_count": null,
   "metadata": {
    "id": "vzAWmO8iNFZC"
   },
   "outputs": [],
   "source": [
    "!unzip -q /workspace/real_gen_dataset.zip -d /workspace/AIGCDetectBenchmark_ver2/dataset"
   ]
  },
  {
   "cell_type": "code",
   "execution_count": null,
   "metadata": {
    "colab": {
     "base_uri": "https://localhost:8080/"
    },
    "id": "J17Cg4xCuKob",
    "outputId": "3d4dd873-0acf-4bfc-dddf-22977e314152"
   },
   "outputs": [],
   "source": [
    "!python train.py \\\n",
    "--name CNNSpot \\\n",
    "--niter 1000 \\\n",
    "--batch_size 64 \\\n",
    "--dataroot /workspace/AIGCDetectBenchmark_ver2/dataset/RealFakeDB512s \\\n",
    "--detect_method CNNSpot \\\n",
    "--blur_prob 0.1 --blur_sig 0.0,3.0 --jpg_prob 0.1 --jpg_method cv2,pil --jpg_qual 30,100 \\\n",
    "--num_threads 4 \\\n",
    "--pos_label 1_fake \\\n",
    "--loss_freq 50 \\\n",
    "--eval \n"
   ]
  },
  {
   "cell_type": "markdown",
   "metadata": {},
   "source": [
    "Eval\n",
    "\n",
    "\n",
    "\n",
    "\n",
    "-----------------------------------------------------"
   ]
  },
  {
   "cell_type": "code",
   "execution_count": null,
   "metadata": {},
   "outputs": [],
   "source": [
    "!python eval_all.py \\\n",
    "--detect_method CNNSpot \\\n",
    "--model_path checkpoints/CNNSpot/model_epoch_best.pth \\\n",
    "--num_threads 2 \\\n",
    "--batch_size 16 \\\n",
    "--pos_label 1_fake "
   ]
  },
  {
   "cell_type": "code",
   "execution_count": null,
   "metadata": {},
   "outputs": [],
   "source": []
  }
 ],
 "metadata": {
  "accelerator": "GPU",
  "colab": {
   "gpuType": "T4",
   "provenance": []
  },
  "kernelspec": {
   "display_name": "Python 3 (ipykernel)",
   "language": "python",
   "name": "python3"
  },
  "language_info": {
   "codemirror_mode": {
    "name": "ipython",
    "version": 3
   },
   "file_extension": ".py",
   "mimetype": "text/x-python",
   "name": "python",
   "nbconvert_exporter": "python",
   "pygments_lexer": "ipython3",
   "version": "3.10.13"
  }
 },
 "nbformat": 4,
 "nbformat_minor": 4
}
