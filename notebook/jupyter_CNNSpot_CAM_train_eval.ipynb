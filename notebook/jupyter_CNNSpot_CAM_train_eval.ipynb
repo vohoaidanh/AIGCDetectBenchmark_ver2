{
 "cells": [
  {
   "cell_type": "markdown",
   "metadata": {
    "id": "4bsPZQKgE3tX"
   },
   "source": [
    "## AIGCDetectBenchmark\n"
   ]
  },
  {
   "cell_type": "code",
   "execution_count": null,
   "metadata": {
    "colab": {
     "base_uri": "https://localhost:8080/"
    },
    "id": "yZtRWDeMing8",
    "outputId": "5d83d40e-05ac-4bbe-a5b5-29ea56eaaca5"
   },
   "outputs": [],
   "source": [
    "!pip install ftfy -q\n",
    "!pip install natsort -q\n",
    "!pip install tensorboardX -q\n",
    "!pip install blobfile -q\n",
    "#!pip install mpi4py -q\n",
    "!apt-get install -y unzip -q\n",
    "!apt-get install -y zip -q\n",
    "!pip install imageio -q\n",
    "!pip install opencv-python -q\n",
    "!apt-get install -y libgl1-mesa-glx -q\n",
    "!pip install scikit-learn -q\n",
    "!pip install comet_ml -q\n",
    "!pip install regex -q\n",
    "!pip install scikit-image -q\n",
    "!pip install grad-cam"
   ]
  },
  {
   "cell_type": "code",
   "execution_count": null,
   "metadata": {
    "colab": {
     "base_uri": "https://localhost:8080/"
    },
    "id": "Q4Tiyb4jExor",
    "outputId": "bdf03bf9-8943-4029-84d8-edecf00f1e30"
   },
   "outputs": [],
   "source": [
    "!git clone https://github.com/vohoaidanh/AIGCDetectBenchmark_ver2.git"
   ]
  },
  {
   "cell_type": "code",
   "execution_count": 1,
   "metadata": {
    "colab": {
     "base_uri": "https://localhost:8080/"
    },
    "id": "n9HXSjhchADX",
    "outputId": "e7c10e63-1b0e-4c5f-8ea6-cdc24bd92a72"
   },
   "outputs": [
    {
     "name": "stdout",
     "output_type": "stream",
     "text": [
      "/workspace/AIGCDetectBenchmark_ver2\n"
     ]
    },
    {
     "name": "stderr",
     "output_type": "stream",
     "text": [
      "/opt/conda/lib/python3.10/site-packages/IPython/core/magics/osm.py:417: UserWarning: using dhist requires you to install the `pickleshare` library.\n",
      "  self.shell.db['dhist'] = compress_dhist(dhist)[-100:]\n"
     ]
    }
   ],
   "source": [
    "%cd /workspace/AIGCDetectBenchmark_ver2"
   ]
  },
  {
   "cell_type": "code",
   "execution_count": null,
   "metadata": {},
   "outputs": [],
   "source": [
    "ls /workspace"
   ]
  },
  {
   "cell_type": "code",
   "execution_count": null,
   "metadata": {
    "id": "vzAWmO8iNFZC"
   },
   "outputs": [],
   "source": [
    "import os\n",
    "os.makedirs('/workspace/AIGCDetectBenchmark_ver2/dataset', exist_ok = True)\n",
    "!unzip -q /workspace/RealFakeDB512s.zip -d /workspace/AIGCDetectBenchmark_ver2/dataset"
   ]
  },
  {
   "cell_type": "code",
   "execution_count": 2,
   "metadata": {},
   "outputs": [],
   "source": [
    "!unzip -q /workspace/real_gen_dataset.zip -d /workspace/AIGCDetectBenchmark_ver2/dataset"
   ]
  },
  {
   "cell_type": "code",
   "execution_count": 3,
   "metadata": {
    "colab": {
     "base_uri": "https://localhost:8080/"
    },
    "id": "J17Cg4xCuKob",
    "outputId": "3d4dd873-0acf-4bfc-dddf-22977e314152"
   },
   "outputs": [
    {
     "name": "stdout",
     "output_type": "stream",
     "text": [
      "----------------- Options ---------------\n",
      "                 CropSize: 224                           \n",
      "               batch_size: 32                            \t[default: 64]\n",
      "                    beta1: 0.9                           \n",
      "                blur_prob: 0.1                           \n",
      "                 blur_sig: 0.0,3.0                       \n",
      "          checkpoints_dir: ./checkpoints                 \n",
      "                  classes: ['airplane', 'bird', 'bicycle', 'boat', 'bottle', 'bus', 'car', 'cat', 'cow', 'chair', 'diningtable', 'dog', 'person', 'pottedplant', 'motorbike', 'tvmonitor', 'train', 'sheep', 'sofa', 'horse']\t[default: airplane,bird,bicycle,boat,bottle,bus,car,cat,cow,chair,diningtable,dog,person,pottedplant,motorbike,tvmonitor,train,sheep,sofa,horse]\n",
      "                    comet: True                          \t[default: False]\n",
      "           continue_train: False                         \n",
      "                 data_aug: False                         \n",
      "                 dataroot: /workspace/AIGCDetectBenchmark_ver2/dataset/real_gen_dataset\t[default: /hotdata/share/AIGCDetect]\n",
      "                dataroot2: None                          \n",
      "            detect_method: CNNSpot_CAM                   \t[default: CNNSpot]\n",
      "          earlystop_epoch: 5                             \n",
      "              epoch_count: 1                             \n",
      "             fix_backbone: False                         \n",
      "                init_gain: 0.02                          \n",
      "                init_type: normal                        \n",
      "                  isTrain: True                          \t[default: None]\n",
      "                    isVal: False                         \t[default: None]\n",
      "               jpg_method: cv2,pil                       \n",
      "                 jpg_prob: 0.1                           \n",
      "                 jpg_qual: 30,100                        \n",
      "               last_epoch: -1                            \n",
      "                 loadSize: 256                           \n",
      "                loss_freq: 400                           \n",
      "                       lr: 0.0001                        \n",
      "           method_combine: None                          \n",
      "                     mode: binary                        \n",
      "       model_path_trained: /workspace/AIGCDetectBenchmark_ver2/weights/classifier/CNNSpot_1isreal_model_epoch_best.pth\t[default: ./weights/classifier/CNNSpot.pth]\n",
      "                     name: 240508_CNNSpot_CAM            \t[default: experiment_name]\n",
      "                new_optim: False                         \n",
      "                    niter: 1000                          \n",
      "                  no_crop: False                         \n",
      "                  no_flip: False                         \n",
      "                no_resize: False                         \n",
      "              num_threads: 4                             \n",
      "                    optim: adam                          \n",
      "              results_dir: ./results/CNNSpot_CAM         \t[default: None]\n",
      "                rz_interp: bilinear                      \n",
      "          save_epoch_freq: 5                             \n",
      "         save_latest_freq: 2000                          \n",
      "              train_split: train                         \n",
      "                val_split: val                           \n",
      "             weight_decay: 0.0                           \n",
      "----------------- End -------------------\n",
      "\u001b[1;38;5;39mCOMET INFO:\u001b[0m Valid Comet API Key saved in /root/.comet.config (set COMET_CONFIG to change where it is saved).\n",
      "\u001b[1;38;5;39mCOMET INFO:\u001b[0m Experiment is live on comet.com \u001b[38;5;39mhttps://www.comet.com/danhvohoai2-gmail-com/ai-generated-image-detection/753302816fc841dcbb71d42a490a27fc\u001b[0m\n",
      "\n",
      "#training images = 112\n",
      "saving the model at the end of epoch 0, iters 112\n",
      "^C\n",
      "Traceback (most recent call last):\n",
      "  File \"/workspace/AIGCDetectBenchmark_ver2/train.py\", line 125, in <module>\n",
      "    model.save_networks('latest')\n",
      "  File \"/workspace/AIGCDetectBenchmark_ver2/networks/base_model.py\", line 30, in save_networks\n",
      "    torch.save(state_dict, save_path)\n",
      "  File \"/opt/conda/lib/python3.10/site-packages/comet_ml/monkey_patching.py\", line 287, in wrapper\n",
      "    return_value = original(*args, **kwargs)\n",
      "  File \"/opt/conda/lib/python3.10/site-packages/torch/serialization.py\", line 628, in save\n",
      "    with _open_zipfile_writer(f) as opened_zipfile:\n",
      "  File \"/opt/conda/lib/python3.10/site-packages/torch/serialization.py\", line 502, in _open_zipfile_writer\n",
      "    return container(name_or_buffer)\n",
      "  File \"/opt/conda/lib/python3.10/site-packages/torch/serialization.py\", line 473, in __init__\n",
      "    super().__init__(torch._C.PyTorchFileWriter(self.name))\n",
      "KeyboardInterrupt\n",
      "\u001b[1;38;5;39mCOMET INFO:\u001b[0m ---------------------------------------------------------------------------------------\n",
      "\u001b[1;38;5;39mCOMET INFO:\u001b[0m Comet.ml Experiment Summary\n",
      "\u001b[1;38;5;39mCOMET INFO:\u001b[0m ---------------------------------------------------------------------------------------\n",
      "\u001b[1;38;5;39mCOMET INFO:\u001b[0m   Data:\n",
      "\u001b[1;38;5;39mCOMET INFO:\u001b[0m     display_summary_level : 1\n",
      "\u001b[1;38;5;39mCOMET INFO:\u001b[0m     name                  : friendly_fascia_4373\n",
      "\u001b[1;38;5;39mCOMET INFO:\u001b[0m     url                   : \u001b[38;5;39mhttps://www.comet.com/danhvohoai2-gmail-com/ai-generated-image-detection/753302816fc841dcbb71d42a490a27fc\u001b[0m\n",
      "\u001b[1;38;5;39mCOMET INFO:\u001b[0m   Metrics [count] (min, max):\n",
      "\u001b[1;38;5;39mCOMET INFO:\u001b[0m     loss [23] : (182.80186462402344, 432.2662658691406)\n",
      "\u001b[1;38;5;39mCOMET INFO:\u001b[0m   Parameters:\n",
      "\u001b[1;38;5;39mCOMET INFO:\u001b[0m     Train params : {\"CropSize\": 224, \"batch_size\": 32, \"detect_method\": \"CNNSpot_CAM\", \"earlystop_epoch\": 5, \"epoch_count\": 1, \"last_epoch\": -1, \"loadSize\": 256, \"loss_freq\": 400, \"lr\": 0.0001, \"mode\": \"binary\", \"name\": \"240508_CNNSpot_CAM\", \"niter\": 1000, \"optim\": \"adam\", \"save_epoch_freq\": 5, \"save_latest_freq\": 2000, \"train_split\": \"train\", \"val_split\": \"val\"}\n",
      "\u001b[1;38;5;39mCOMET INFO:\u001b[0m   Uploads:\n",
      "\u001b[1;38;5;39mCOMET INFO:\u001b[0m     conda-environment-definition : 1\n",
      "\u001b[1;38;5;39mCOMET INFO:\u001b[0m     conda-info                   : 1\n",
      "\u001b[1;38;5;39mCOMET INFO:\u001b[0m     conda-specification          : 1\n",
      "\u001b[1;38;5;39mCOMET INFO:\u001b[0m     environment details          : 1\n",
      "\u001b[1;38;5;39mCOMET INFO:\u001b[0m     filename                     : 1\n",
      "\u001b[1;38;5;39mCOMET INFO:\u001b[0m     git metadata                 : 1\n",
      "\u001b[1;38;5;39mCOMET INFO:\u001b[0m     git-patch (uncompressed)     : 1 (3.37 KB)\n",
      "\u001b[1;38;5;39mCOMET INFO:\u001b[0m     installed packages           : 1\n",
      "\u001b[1;38;5;39mCOMET INFO:\u001b[0m     model graph                  : 1\n",
      "\u001b[1;38;5;39mCOMET INFO:\u001b[0m     os packages                  : 1\n",
      "\u001b[1;38;5;39mCOMET INFO:\u001b[0m     source_code                  : 1 (6.57 KB)\n",
      "\u001b[1;38;5;39mCOMET INFO:\u001b[0m \n"
     ]
    }
   ],
   "source": [
    "!python train.py \\\n",
    "--name 240508_CNNSpot_CAM \\\n",
    "--niter 1000 \\\n",
    "--batch_size 32 \\\n",
    "--dataroot /workspace/AIGCDetectBenchmark_ver2/dataset/RealFakeDB512s \\\n",
    "--model_path_trained /workspace/AIGCDetectBenchmark_ver2/weights/classifier/CNNSpot_1isreal_model_epoch_best.pth \\\n",
    "--detect_method CNNSpot_CAM \\\n",
    "--blur_prob 0.1 --blur_sig 0.0,3.0 --jpg_prob 0.1 --jpg_method cv2,pil --jpg_qual 30,100 \\\n",
    "--num_threads 4 \\\n",
    "--loss_freq 400 \\\n",
    "--comet\n"
   ]
  },
  {
   "cell_type": "markdown",
   "metadata": {},
   "source": [
    "Eval\n",
    "\n",
    "\n",
    "\n",
    "\n",
    "-----------------------------------------------------"
   ]
  },
  {
   "cell_type": "code",
   "execution_count": null,
   "metadata": {},
   "outputs": [],
   "source": [
    "!python eval_all.py --detect_method Combine \\\n",
    "--model_path checkpoints/240429_CNNSpot+FreDect/model_epoch_best.pth \\\n",
    "--num_threads 6 \\\n",
    "--batch_size 1 \\\n",
    "--method_combine CNNSpot+FreDect \\\n",
    "--comet"
   ]
  },
  {
   "cell_type": "code",
   "execution_count": null,
   "metadata": {
    "id": "i-WXaGdEcrbD"
   },
   "outputs": [],
   "source": [
    "!unzip /content/drive/MyDrive/WEIGHTS/240427_FreDect_checkpoint.zip"
   ]
  },
  {
   "cell_type": "code",
   "execution_count": null,
   "metadata": {
    "id": "G9g2F58gSiW4"
   },
   "outputs": [],
   "source": [
    "!unzip /content/drive/MyDrive/DATASETS/Common/real_gen_dataset.zip -d data/real_gen_dataset"
   ]
  },
  {
   "cell_type": "code",
   "execution_count": null,
   "metadata": {
    "id": "mjDP2YEYStJ-"
   },
   "outputs": [],
   "source": [
    "!cp /content/AIGCDetectBenchmark/checkpoints/FreDect/model_epoch_best.pth -d /content/drive/MyDrive/WEIGHTS/FreDect"
   ]
  },
  {
   "cell_type": "code",
   "execution_count": null,
   "metadata": {},
   "outputs": [],
   "source": [
    "!rm -r /workspace/real_gen_dataset.zip"
   ]
  },
  {
   "cell_type": "code",
   "execution_count": 15,
   "metadata": {},
   "outputs": [
    {
     "name": "stdout",
     "output_type": "stream",
     "text": [
      "checkpoints/240508_CNNSpot_CAM/model_epoch_0.pth\n",
      "checkpoints/240508_CNNSpot_CAM/model_epoch_latest.pth\n",
      "checkpoints/240508_CNNSpot_CAM/opt.txt\n",
      "\n",
      "checkpoints/240508_CNNSpot_CAM/train:\n",
      "events.out.tfevents.1715173749.98946ed5acdd\n",
      "events.out.tfevents.1715174031.98946ed5acdd\n",
      "events.out.tfevents.1715174510.98946ed5acdd\n",
      "events.out.tfevents.1715174913.98946ed5acdd\n",
      "events.out.tfevents.1715175050.98946ed5acdd\n",
      "events.out.tfevents.1715175134.98946ed5acdd\n",
      "events.out.tfevents.1715175275.98946ed5acdd\n",
      "events.out.tfevents.1715175316.98946ed5acdd\n",
      "events.out.tfevents.1715175371.98946ed5acdd\n",
      "\n",
      "checkpoints/240508_CNNSpot_CAM/val:\n",
      "events.out.tfevents.1715173749.98946ed5acdd\n",
      "events.out.tfevents.1715174031.98946ed5acdd\n",
      "events.out.tfevents.1715174510.98946ed5acdd\n",
      "events.out.tfevents.1715174913.98946ed5acdd\n",
      "events.out.tfevents.1715175050.98946ed5acdd\n",
      "events.out.tfevents.1715175134.98946ed5acdd\n",
      "events.out.tfevents.1715175275.98946ed5acdd\n",
      "events.out.tfevents.1715175316.98946ed5acdd\n",
      "events.out.tfevents.1715175371.98946ed5acdd\n"
     ]
    }
   ],
   "source": [
    "!ls checkpoints/*/*\t"
   ]
  },
  {
   "cell_type": "code",
   "execution_count": 22,
   "metadata": {},
   "outputs": [
    {
     "name": "stdout",
     "output_type": "stream",
     "text": [
      "709M\tcheckpoints/240508_CNNSpot_CAM/model_epoch_latest.pth\n",
      "4.0K\tcheckpoints/240508_CNNSpot_CAM/opt.txt\n",
      "40K\tcheckpoints/240508_CNNSpot_CAM/train\n",
      "40K\tcheckpoints/240508_CNNSpot_CAM/val\n"
     ]
    }
   ],
   "source": [
    "!du -h checkpoints/240508_CNNSpot_CAM/*"
   ]
  },
  {
   "cell_type": "code",
   "execution_count": null,
   "metadata": {},
   "outputs": [],
   "source": [
    "%cd checkpoints/240428_CNNSpot\t"
   ]
  },
  {
   "cell_type": "code",
   "execution_count": null,
   "metadata": {},
   "outputs": [],
   "source": [
    "!zip -r 240428_CNNSpot_checkpoint.zip ."
   ]
  },
  {
   "cell_type": "code",
   "execution_count": 21,
   "metadata": {},
   "outputs": [],
   "source": [
    "!rm -r checkpoints/240508_CNNSpot_CAM/model_epoch_0.pth"
   ]
  },
  {
   "cell_type": "code",
   "execution_count": null,
   "metadata": {},
   "outputs": [],
   "source": [
    "!mv 240428_CNNSpot_checkpoint.zip /workspace"
   ]
  },
  {
   "cell_type": "code",
   "execution_count": 23,
   "metadata": {},
   "outputs": [],
   "source": [
    "!rm -r /workspace/RealFakeDB512s.zip"
   ]
  },
  {
   "cell_type": "code",
   "execution_count": null,
   "metadata": {},
   "outputs": [],
   "source": []
  }
 ],
 "metadata": {
  "accelerator": "GPU",
  "colab": {
   "gpuType": "T4",
   "provenance": []
  },
  "kernelspec": {
   "display_name": "Python 3 (ipykernel)",
   "language": "python",
   "name": "python3"
  },
  "language_info": {
   "codemirror_mode": {
    "name": "ipython",
    "version": 3
   },
   "file_extension": ".py",
   "mimetype": "text/x-python",
   "name": "python",
   "nbconvert_exporter": "python",
   "pygments_lexer": "ipython3",
   "version": "3.10.13"
  }
 },
 "nbformat": 4,
 "nbformat_minor": 4
}
