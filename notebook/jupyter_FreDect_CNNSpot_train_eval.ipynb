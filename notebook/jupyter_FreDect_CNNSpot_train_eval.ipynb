{
 "cells": [
  {
   "cell_type": "markdown",
   "metadata": {
    "id": "4bsPZQKgE3tX"
   },
   "source": [
    "## AIGCDetectBenchmark\n"
   ]
  },
  {
   "cell_type": "code",
   "execution_count": 3,
   "metadata": {
    "colab": {
     "base_uri": "https://localhost:8080/"
    },
    "id": "yZtRWDeMing8",
    "outputId": "5d83d40e-05ac-4bbe-a5b5-29ea56eaaca5"
   },
   "outputs": [
    {
     "name": "stdout",
     "output_type": "stream",
     "text": [
      "\u001b[33mWARNING: Running pip as the 'root' user can result in broken permissions and conflicting behaviour with the system package manager. It is recommended to use a virtual environment instead: https://pip.pypa.io/warnings/venv\u001b[0m\u001b[33m\n",
      "\u001b[0m\u001b[33mWARNING: Running pip as the 'root' user can result in broken permissions and conflicting behaviour with the system package manager. It is recommended to use a virtual environment instead: https://pip.pypa.io/warnings/venv\u001b[0m\u001b[33m\n",
      "\u001b[0m\u001b[33mWARNING: Running pip as the 'root' user can result in broken permissions and conflicting behaviour with the system package manager. It is recommended to use a virtual environment instead: https://pip.pypa.io/warnings/venv\u001b[0m\u001b[33m\n",
      "\u001b[0m\u001b[33mWARNING: Running pip as the 'root' user can result in broken permissions and conflicting behaviour with the system package manager. It is recommended to use a virtual environment instead: https://pip.pypa.io/warnings/venv\u001b[0m\u001b[33m\n",
      "\u001b[0m"
     ]
    }
   ],
   "source": [
    "!pip install ftfy -q\n",
    "!pip install natsort -q\n",
    "!pip install tensorboardX -q\n",
    "!pip install blobfile -q\n",
    "#!pip install mpi4py -q\n",
    "!apt-get install -y unzip -q\n",
    "!apt-get install -y zip -q\n",
    "!pip install imageio -q\n",
    "!pip install opencv-python -q\n",
    "!apt-get install -y libgl1-mesa-glx -q\n",
    "!pip install scikit-learn -q\n",
    "!pip install comet_ml -q\n",
    "!pip install regex -q\n",
    "!pip install scikit-image -q\n"
   ]
  },
  {
   "cell_type": "code",
   "execution_count": 2,
   "metadata": {
    "colab": {
     "base_uri": "https://localhost:8080/"
    },
    "id": "Q4Tiyb4jExor",
    "outputId": "bdf03bf9-8943-4029-84d8-edecf00f1e30"
   },
   "outputs": [
    {
     "name": "stdout",
     "output_type": "stream",
     "text": [
      "Cloning into 'AIGCDetectBenchmark_ver2'...\n",
      "remote: Enumerating objects: 410, done.\u001b[K\n",
      "remote: Counting objects: 100% (410/410), done.\u001b[K\n",
      "remote: Compressing objects: 100% (250/250), done.\u001b[K\n",
      "remote: Total 410 (delta 155), reused 408 (delta 153), pack-reused 0\u001b[K\n",
      "Receiving objects: 100% (410/410), 3.96 MiB | 30.02 MiB/s, done.\n",
      "Resolving deltas: 100% (155/155), done.\n"
     ]
    }
   ],
   "source": [
    "!git clone https://github.com/vohoaidanh/AIGCDetectBenchmark_ver2.git"
   ]
  },
  {
   "cell_type": "code",
   "execution_count": 11,
   "metadata": {
    "colab": {
     "base_uri": "https://localhost:8080/"
    },
    "id": "n9HXSjhchADX",
    "outputId": "e7c10e63-1b0e-4c5f-8ea6-cdc24bd92a72"
   },
   "outputs": [
    {
     "name": "stdout",
     "output_type": "stream",
     "text": [
      "/workspace/AIGCDetectBenchmark_ver2\n"
     ]
    }
   ],
   "source": [
    "%cd /workspace/AIGCDetectBenchmark_ver2"
   ]
  },
  {
   "cell_type": "code",
   "execution_count": 31,
   "metadata": {
    "id": "vzAWmO8iNFZC"
   },
   "outputs": [],
   "source": [
    "!unzip -q /workspace/RealFakeDB512s.zip -d /workspace/AIGCDetectBenchmark_ver2/dataset/RealFakeDB512s"
   ]
  },
  {
   "cell_type": "code",
   "execution_count": 34,
   "metadata": {
    "colab": {
     "base_uri": "https://localhost:8080/"
    },
    "id": "J17Cg4xCuKob",
    "outputId": "3d4dd873-0acf-4bfc-dddf-22977e314152"
   },
   "outputs": [
    {
     "name": "stdout",
     "output_type": "stream",
     "text": [
      "----------------- Options ---------------\n",
      "                 CropSize: 224                           \n",
      "               batch_size: 64                            \n",
      "                    beta1: 0.9                           \n",
      "                blur_prob: 0.1                           \n",
      "                 blur_sig: 0.0,3.0                       \n",
      "          checkpoints_dir: ./checkpoints                 \n",
      "                  classes: ['']                          \t[default: ]\n",
      "                    comet: True                          \t[default: False]\n",
      "           continue_train: False                         \n",
      "                 data_aug: False                         \n",
      "                 dataroot: /workspace/AIGCDetectBenchmark_ver2/dataset/RealFakeDB512s\t[default: /hotdata/share/AIGCDetect]\n",
      "            detect_method: CNNSpot                       \n",
      "          earlystop_epoch: 5                             \n",
      "              epoch_count: 1                             \n",
      "             fix_backbone: False                         \n",
      "                init_gain: 0.02                          \n",
      "                init_type: normal                        \n",
      "                  isTrain: True                          \t[default: None]\n",
      "                    isVal: False                         \t[default: None]\n",
      "               jpg_method: cv2,pil                       \n",
      "                 jpg_prob: 0.1                           \n",
      "                 jpg_qual: 30,100                        \n",
      "               last_epoch: -1                            \n",
      "                 loadSize: 256                           \n",
      "                loss_freq: 400                           \n",
      "                       lr: 0.0001                        \n",
      "                     mode: binary                        \n",
      "                     name: 240428_CNNSpot                \t[default: experiment_name]\n",
      "                new_optim: False                         \n",
      "                    niter: 1000                          \n",
      "                  no_crop: False                         \n",
      "                  no_flip: False                         \n",
      "                no_resize: False                         \n",
      "              num_threads: 6                             \t[default: 4]\n",
      "                    optim: adam                          \n",
      "              results_dir: ./results/CNNSpot             \t[default: None]\n",
      "                rz_interp: bilinear                      \n",
      "          save_epoch_freq: 5                             \n",
      "         save_latest_freq: 2000                          \n",
      "              train_split: train                         \n",
      "                val_split: val                           \n",
      "             weight_decay: 0.0                           \n",
      "----------------- End -------------------\n",
      "\u001b[1;38;5;39mCOMET INFO:\u001b[0m Valid Comet API Key saved in /root/.comet.config (set COMET_CONFIG to change where it is saved).\n",
      "\u001b[1;38;5;39mCOMET INFO:\u001b[0m Experiment is live on comet.com \u001b[38;5;39mhttps://www.comet.com/danhvohoai2-gmail-com/ai-generated-image-detection/31b09cc4091943a991ace596a62228b0\u001b[0m\n",
      "\n",
      "#training images = 625\n",
      "Downloading: \"https://download.pytorch.org/models/resnet50-19c8e357.pth\" to /root/.cache/torch/hub/checkpoints/resnet50-19c8e357.pth\n",
      "100%|██████████| 97.8M/97.8M [00:01<00:00, 92.5MB/s]\n",
      "Train loss: 0.11665981262922287 at step: 400\n",
      "saving the model at the end of epoch 0, iters 625\n",
      "saving the model at the end of epoch 0, iters 625\n",
      "(Val @ epoch 0) acc: 0.9641666666666666; ap: 0.994376600587039; TPR: 0.9666666666666667; TNR: 0.9616666666666667\n",
      "Validation accuracy increased (-inf --> 0.964167).  Saving model ...\n",
      "Train loss: 0.08803706616163254 at step: 800\n",
      "Train loss: 0.0736534595489502 at step: 1200\n",
      "(Val @ epoch 1) acc: 0.967; ap: 0.9954934970322492; TPR: 0.9676666666666667; TNR: 0.9663333333333334\n",
      "Validation accuracy increased (0.964167 --> 0.967000).  Saving model ...\n",
      "Train loss: 0.07891897857189178 at step: 1600\n",
      "(Val @ epoch 2) acc: 0.972; ap: 0.9970534436488162; TPR: 0.957; TNR: 0.987\n",
      "Validation accuracy increased (0.967000 --> 0.972000).  Saving model ...\n",
      "Train loss: 0.039607565850019455 at step: 2000\n",
      "saving the latest model 240428_CNNSpot (epoch 3, model.total_steps 2000)\n",
      "Train loss: 0.025424830615520477 at step: 2400\n",
      "(Val @ epoch 3) acc: 0.9721666666666666; ap: 0.9965554494875694; TPR: 0.9626666666666667; TNR: 0.9816666666666667\n",
      "EarlyStopping counter: 1 out of 5\n",
      "Train loss: 0.07993593066930771 at step: 2800\n",
      "(Val @ epoch 4) acc: 0.9735; ap: 0.9971559941133238; TPR: 0.9613333333333334; TNR: 0.9856666666666667\n",
      "Validation accuracy increased (0.972000 --> 0.973500).  Saving model ...\n",
      "Train loss: 0.039713889360427856 at step: 3200\n",
      "Train loss: 0.03179144114255905 at step: 3600\n",
      "saving the model at the end of epoch 5, iters 3750\n",
      "saving the model at the end of epoch 5, iters 3750\n",
      "(Val @ epoch 5) acc: 0.982; ap: 0.9981790664582584; TPR: 0.982; TNR: 0.982\n",
      "Validation accuracy increased (0.973500 --> 0.982000).  Saving model ...\n",
      "Train loss: 0.007030983455479145 at step: 4000\n",
      "saving the latest model 240428_CNNSpot (epoch 6, model.total_steps 4000)\n",
      "(Val @ epoch 6) acc: 0.9666666666666667; ap: 0.997851662827805; TPR: 0.993; TNR: 0.9403333333333334\n",
      "EarlyStopping counter: 1 out of 5\n",
      "Train loss: 0.04373278468847275 at step: 4400\n",
      "Train loss: 0.005359749309718609 at step: 4800\n",
      "(Val @ epoch 7) acc: 0.97; ap: 0.9967456820431693; TPR: 0.954; TNR: 0.986\n",
      "EarlyStopping counter: 2 out of 5\n",
      "Train loss: 0.022537214681506157 at step: 5200\n",
      "Train loss: 0.045358601957559586 at step: 5600\n",
      "(Val @ epoch 8) acc: 0.968; ap: 0.9970936522752832; TPR: 0.9453333333333334; TNR: 0.9906666666666667\n",
      "EarlyStopping counter: 3 out of 5\n",
      "Train loss: 0.030212970450520515 at step: 6000\n",
      "saving the latest model 240428_CNNSpot (epoch 9, model.total_steps 6000)\n",
      "(Val @ epoch 9) acc: 0.9801666666666666; ap: 0.9982427049690366; TPR: 0.9756666666666667; TNR: 0.9846666666666667\n",
      "EarlyStopping counter: 4 out of 5\n",
      "Train loss: 0.06290348619222641 at step: 6400\n",
      "Train loss: 0.12271027266979218 at step: 6800\n",
      "saving the model at the end of epoch 10, iters 6875\n",
      "saving the model at the end of epoch 10, iters 6875\n",
      "(Val @ epoch 10) acc: 0.9766666666666667; ap: 0.9976703363093807; TPR: 0.968; TNR: 0.9853333333333333\n",
      "EarlyStopping counter: 5 out of 5\n",
      "Learning rate dropped by 10, continue training...\n",
      "Train loss: 0.0013599111698567867 at step: 7200\n",
      "(Val @ epoch 11) acc: 0.9853333333333333; ap: 0.9989300869156493; TPR: 0.985; TNR: 0.9856666666666667\n",
      "Validation accuracy increased (-inf --> 0.985333).  Saving model ...\n",
      "Train loss: 0.11896897852420807 at step: 7600\n",
      "Train loss: 0.004170402884483337 at step: 8000\n",
      "saving the latest model 240428_CNNSpot (epoch 12, model.total_steps 8000)\n",
      "(Val @ epoch 12) acc: 0.9821666666666666; ap: 0.9989478740320866; TPR: 0.975; TNR: 0.9893333333333333\n",
      "EarlyStopping counter: 1 out of 5\n",
      "Train loss: 0.020633352920413017 at step: 8400\n",
      "(Val @ epoch 13) acc: 0.9843333333333333; ap: 0.9988862070331695; TPR: 0.975; TNR: 0.9936666666666667\n",
      "EarlyStopping counter: 2 out of 5\n",
      "Train loss: 0.025827936828136444 at step: 8800\n",
      "Train loss: 0.0015022389125078917 at step: 9200\n",
      "(Val @ epoch 14) acc: 0.9858333333333333; ap: 0.9988855546201119; TPR: 0.981; TNR: 0.9906666666666667\n",
      "EarlyStopping counter: 3 out of 5\n",
      "Train loss: 0.00040919031016528606 at step: 9600\n",
      "Train loss: 0.0006470612715929747 at step: 10000\n",
      "saving the latest model 240428_CNNSpot (epoch 15, model.total_steps 10000)\n",
      "saving the model at the end of epoch 15, iters 10000\n",
      "saving the model at the end of epoch 15, iters 10000\n",
      "(Val @ epoch 15) acc: 0.9883333333333333; ap: 0.9990699841918709; TPR: 0.9863333333333333; TNR: 0.9903333333333333\n",
      "Validation accuracy increased (0.985333 --> 0.988333).  Saving model ...\n",
      "Train loss: 0.00992613099515438 at step: 10400\n",
      "(Val @ epoch 16) acc: 0.9856666666666667; ap: 0.9990161877379564; TPR: 0.9853333333333333; TNR: 0.986\n",
      "EarlyStopping counter: 1 out of 5\n",
      "Train loss: 0.008156600408256054 at step: 10800\n",
      "Train loss: 0.0016332771629095078 at step: 11200\n",
      "(Val @ epoch 17) acc: 0.9875; ap: 0.9990081761996656; TPR: 0.989; TNR: 0.986\n",
      "EarlyStopping counter: 2 out of 5\n",
      "Train loss: 0.0027825776487588882 at step: 11600\n",
      "(Val @ epoch 18) acc: 0.9861666666666666; ap: 0.9988456477690882; TPR: 0.9846666666666667; TNR: 0.9876666666666667\n",
      "EarlyStopping counter: 3 out of 5\n",
      "Train loss: 0.0010197274386882782 at step: 12000\n",
      "saving the latest model 240428_CNNSpot (epoch 19, model.total_steps 12000)\n",
      "Train loss: 0.0033874702639877796 at step: 12400\n",
      "(Val @ epoch 19) acc: 0.9865; ap: 0.9987621906356843; TPR: 0.983; TNR: 0.99\n",
      "EarlyStopping counter: 4 out of 5\n",
      "Train loss: 0.017994016408920288 at step: 12800\n",
      "saving the model at the end of epoch 20, iters 13125\n",
      "saving the model at the end of epoch 20, iters 13125\n",
      "(Val @ epoch 20) acc: 0.9885; ap: 0.9991567394221769; TPR: 0.9876666666666667; TNR: 0.9893333333333333\n",
      "EarlyStopping counter: 5 out of 5\n",
      "Learning rate dropped by 10, continue training...\n",
      "Train loss: 0.0012535243295133114 at step: 13200\n",
      "Train loss: 0.0008269460522569716 at step: 13600\n",
      "(Val @ epoch 21) acc: 0.9873333333333333; ap: 0.9989253656190301; TPR: 0.9873333333333333; TNR: 0.9873333333333333\n",
      "Validation accuracy increased (-inf --> 0.987333).  Saving model ...\n",
      "Train loss: 0.0009502426255494356 at step: 14000\n",
      "saving the latest model 240428_CNNSpot (epoch 22, model.total_steps 14000)\n",
      "(Val @ epoch 22) acc: 0.9878333333333333; ap: 0.9990352860278797; TPR: 0.9876666666666667; TNR: 0.988\n",
      "EarlyStopping counter: 1 out of 5\n",
      "Train loss: 0.000683763122651726 at step: 14400\n",
      "Train loss: 0.0010553136235103011 at step: 14800\n",
      "(Val @ epoch 23) acc: 0.987; ap: 0.9990714640950878; TPR: 0.9833333333333333; TNR: 0.9906666666666667\n",
      "EarlyStopping counter: 2 out of 5\n",
      "Train loss: 0.0008890164317563176 at step: 15200\n",
      "Train loss: 0.020221399143338203 at step: 15600\n",
      "(Val @ epoch 24) acc: 0.9888333333333333; ap: 0.9990884335056348; TPR: 0.989; TNR: 0.9886666666666667\n",
      "EarlyStopping counter: 3 out of 5\n",
      "Train loss: 0.0003253141767345369 at step: 16000\n",
      "saving the latest model 240428_CNNSpot (epoch 25, model.total_steps 16000)\n",
      "saving the model at the end of epoch 25, iters 16250\n",
      "saving the model at the end of epoch 25, iters 16250\n",
      "(Val @ epoch 25) acc: 0.9871666666666666; ap: 0.9991617630776853; TPR: 0.9836666666666667; TNR: 0.9906666666666667\n",
      "EarlyStopping counter: 4 out of 5\n",
      "Train loss: 0.0007330915541388094 at step: 16400\n",
      "Train loss: 0.020359408110380173 at step: 16800\n",
      "(Val @ epoch 26) acc: 0.9876666666666667; ap: 0.9990046529171236; TPR: 0.9863333333333333; TNR: 0.989\n",
      "EarlyStopping counter: 5 out of 5\n",
      "Early stopping.\n",
      "\u001b[1;38;5;39mCOMET INFO:\u001b[0m ---------------------------------------------------------------------------------------\n",
      "\u001b[1;38;5;39mCOMET INFO:\u001b[0m Comet.ml Experiment Summary\n",
      "\u001b[1;38;5;39mCOMET INFO:\u001b[0m ---------------------------------------------------------------------------------------\n",
      "\u001b[1;38;5;39mCOMET INFO:\u001b[0m   Data:\n",
      "\u001b[1;38;5;39mCOMET INFO:\u001b[0m     display_summary_level : 1\n",
      "\u001b[1;38;5;39mCOMET INFO:\u001b[0m     name                  : complex_mandrill_4527\n",
      "\u001b[1;38;5;39mCOMET INFO:\u001b[0m     url                   : \u001b[38;5;39mhttps://www.comet.com/danhvohoai2-gmail-com/ai-generated-image-detection/31b09cc4091943a991ace596a62228b0\u001b[0m\n",
      "\u001b[1;38;5;39mCOMET INFO:\u001b[0m   Metrics [count] (min, max):\n",
      "\u001b[1;38;5;39mCOMET INFO:\u001b[0m     loss [1688]           : (1.4240368727769237e-05, 0.693825364112854)\n",
      "\u001b[1;38;5;39mCOMET INFO:\u001b[0m     train/epoch_acc [27]  : (0.951, 0.99905)\n",
      "\u001b[1;38;5;39mCOMET INFO:\u001b[0m     train/epoch_loss [27] : (0.0034542065113782883, 0.1255798637866974)\n",
      "\u001b[1;38;5;39mCOMET INFO:\u001b[0m     val/TNR [27]          : (0.9403333333333334, 0.9936666666666667)\n",
      "\u001b[1;38;5;39mCOMET INFO:\u001b[0m     val/TPR [27]          : (0.9453333333333334, 0.993)\n",
      "\u001b[1;38;5;39mCOMET INFO:\u001b[0m     val/epoch_acc [27]    : (0.9641666666666666, 0.9888333333333333)\n",
      "\u001b[1;38;5;39mCOMET INFO:\u001b[0m   Parameters:\n",
      "\u001b[1;38;5;39mCOMET INFO:\u001b[0m     Train params : {\"CropSize\": 224, \"batch_size\": 64, \"detect_method\": \"CNNSpot\", \"earlystop_epoch\": 5, \"epoch_count\": 1, \"last_epoch\": -1, \"loadSize\": 256, \"loss_freq\": 400, \"lr\": 0.0001, \"mode\": \"binary\", \"name\": \"240428_CNNSpot\", \"niter\": 1000, \"optim\": \"adam\", \"save_epoch_freq\": 5, \"save_latest_freq\": 2000, \"train_split\": \"train\", \"val_split\": \"val\"}\n",
      "\u001b[1;38;5;39mCOMET INFO:\u001b[0m   Uploads:\n",
      "\u001b[1;38;5;39mCOMET INFO:\u001b[0m     conda-environment-definition : 1\n",
      "\u001b[1;38;5;39mCOMET INFO:\u001b[0m     conda-info                   : 1\n",
      "\u001b[1;38;5;39mCOMET INFO:\u001b[0m     conda-specification          : 1\n",
      "\u001b[1;38;5;39mCOMET INFO:\u001b[0m     confusion-matrix             : 54\n",
      "\u001b[1;38;5;39mCOMET INFO:\u001b[0m     environment details          : 1\n",
      "\u001b[1;38;5;39mCOMET INFO:\u001b[0m     filename                     : 1\n",
      "\u001b[1;38;5;39mCOMET INFO:\u001b[0m     git metadata                 : 1\n",
      "\u001b[1;38;5;39mCOMET INFO:\u001b[0m     git-patch (uncompressed)     : 1 (5.37 KB)\n",
      "\u001b[1;38;5;39mCOMET INFO:\u001b[0m     installed packages           : 1\n",
      "\u001b[1;38;5;39mCOMET INFO:\u001b[0m     model graph                  : 1\n",
      "\u001b[1;38;5;39mCOMET INFO:\u001b[0m     os packages                  : 1\n",
      "\u001b[1;38;5;39mCOMET INFO:\u001b[0m     source_code                  : 1 (6.79 KB)\n",
      "\u001b[1;38;5;39mCOMET INFO:\u001b[0m \n",
      "\u001b[36m────────────────────────────── \u001b[0m\u001b[1;36mNew Comet feature!\u001b[0m\u001b[36m ──────────────────────────────\u001b[0m\n",
      "Log your models to better track, deploy, share, and reproduce your work using: 'comet_ml.integration.pytorch.log_model'.\n",
      "Learn more at: https://comet.com/docs/v2/pytorch_log_model\n",
      "\n",
      "Hide this message by setting environment variable \"COMET_DISABLE_ANNOUNCEMENT=1\" \n",
      "\u001b[36m────────────────────────────────────────────────────────────────────────────────\u001b[0m\n"
     ]
    }
   ],
   "source": [
    "!python train.py \\\n",
    "--name 240428_CNNSpot \\\n",
    "--niter 1000 \\\n",
    "--batch_size 64 \\\n",
    "--dataroot /workspace/AIGCDetectBenchmark_ver2/dataset/RealFakeDB512s \\\n",
    "--detect_method CNNSpot \\\n",
    "--blur_prob 0.1 --blur_sig 0.0,3.0 --jpg_prob 0.1 --jpg_method cv2,pil --jpg_qual 30,100 \\\n",
    "--num_threads 6 \\\n",
    "--loss_freq 400 \\\n",
    "--comet"
   ]
  },
  {
   "cell_type": "markdown",
   "metadata": {},
   "source": [
    "Eval\n",
    "\n",
    "\n",
    "\n",
    "\n"
   ]
  },
  {
   "cell_type": "code",
   "execution_count": null,
   "metadata": {},
   "outputs": [],
   "source": [
    "!python eval_all.py --detect_method CNNSpot \\\n",
    "--model_path checkpoints/240428_CNNSpot/model_epoch_best.pth \\\n",
    "--num_threads 6 \\\n",
    "--batch_size 1 \\\n",
    "--comet"
   ]
  },
  {
   "cell_type": "code",
   "execution_count": null,
   "metadata": {
    "id": "i-WXaGdEcrbD"
   },
   "outputs": [],
   "source": [
    "!unzip /content/drive/MyDrive/WEIGHTS/240427_FreDect_checkpoint.zip"
   ]
  },
  {
   "cell_type": "code",
   "execution_count": null,
   "metadata": {
    "id": "G9g2F58gSiW4"
   },
   "outputs": [],
   "source": [
    "!unzip /content/drive/MyDrive/DATASETS/Common/real_gen_dataset.zip -d data/real_gen_dataset"
   ]
  },
  {
   "cell_type": "code",
   "execution_count": 23,
   "metadata": {
    "id": "mjDP2YEYStJ-"
   },
   "outputs": [],
   "source": [
    "!cp /content/AIGCDetectBenchmark/checkpoints/FreDect/model_epoch_best.pth -d /content/drive/MyDrive/WEIGHTS/FreDect"
   ]
  },
  {
   "cell_type": "code",
   "execution_count": 30,
   "metadata": {},
   "outputs": [],
   "source": [
    "!rm -r /workspace/real_gen_dataset.zip"
   ]
  },
  {
   "cell_type": "code",
   "execution_count": 43,
   "metadata": {},
   "outputs": [
    {
     "name": "stdout",
     "output_type": "stream",
     "text": [
      "ls: cannot access 'checkpoints/240428_CNNSpot': No such file or directory\n"
     ]
    }
   ],
   "source": [
    "!ls checkpoints/240428_CNNSpot\t"
   ]
  },
  {
   "cell_type": "code",
   "execution_count": 38,
   "metadata": {},
   "outputs": [],
   "source": [
    "!rm -r checkpoints/240428_CNNSpot/model_epoch_0.pth\n",
    "!rm -r checkpoints/240428_CNNSpot/model_epoch_5.pth\n",
    "!rm -r checkpoints/240428_CNNSpot/model_epoch_10.pth\n",
    "!rm -r checkpoints/240428_CNNSpot/model_epoch_15.pth\n",
    "!rm -r checkpoints/240428_CNNSpot/model_epoch_20.pth\n",
    "!rm -r checkpoints/240428_CNNSpot/model_epoch_latest.pth"
   ]
  },
  {
   "cell_type": "code",
   "execution_count": 41,
   "metadata": {},
   "outputs": [
    {
     "name": "stdout",
     "output_type": "stream",
     "text": [
      "/workspace/AIGCDetectBenchmark_ver2/checkpoints/240428_CNNSpot\n"
     ]
    }
   ],
   "source": [
    "%cd checkpoints/240428_CNNSpot\t"
   ]
  },
  {
   "cell_type": "code",
   "execution_count": 42,
   "metadata": {},
   "outputs": [
    {
     "name": "stdout",
     "output_type": "stream",
     "text": [
      "  adding: opt.txt (deflated 76%)\n",
      "  adding: train/ (stored 0%)\n",
      "  adding: train/events.out.tfevents.1714299020.92375be39fac (deflated 52%)\n",
      "  adding: val/ (stored 0%)\n",
      "  adding: val/events.out.tfevents.1714299020.92375be39fac (deflated 57%)\n",
      "  adding: model_epoch_best.pth (deflated 8%)\n",
      "  adding: model_epoch_25.pth (deflated 8%)\n"
     ]
    }
   ],
   "source": [
    "!zip -r 240428_CNNSpot_checkpoint.zip ."
   ]
  },
  {
   "cell_type": "code",
   "execution_count": 44,
   "metadata": {},
   "outputs": [
    {
     "name": "stdout",
     "output_type": "stream",
     "text": [
      "240428_CNNSpot_checkpoint.zip  model_epoch_best.pth  \u001b[0m\u001b[01;34mtrain\u001b[0m/\n",
      "model_epoch_25.pth             opt.txt               \u001b[01;34mval\u001b[0m/\n"
     ]
    }
   ],
   "source": [
    "ls"
   ]
  },
  {
   "cell_type": "code",
   "execution_count": 45,
   "metadata": {},
   "outputs": [],
   "source": [
    "!mv 240428_CNNSpot_checkpoint.zip /workspace"
   ]
  },
  {
   "cell_type": "code",
   "execution_count": null,
   "metadata": {},
   "outputs": [],
   "source": []
  }
 ],
 "metadata": {
  "accelerator": "GPU",
  "colab": {
   "gpuType": "T4",
   "provenance": []
  },
  "kernelspec": {
   "display_name": "Python 3 (ipykernel)",
   "language": "python",
   "name": "python3"
  },
  "language_info": {
   "codemirror_mode": {
    "name": "ipython",
    "version": 3
   },
   "file_extension": ".py",
   "mimetype": "text/x-python",
   "name": "python",
   "nbconvert_exporter": "python",
   "pygments_lexer": "ipython3",
   "version": "3.10.13"
  }
 },
 "nbformat": 4,
 "nbformat_minor": 4
}
